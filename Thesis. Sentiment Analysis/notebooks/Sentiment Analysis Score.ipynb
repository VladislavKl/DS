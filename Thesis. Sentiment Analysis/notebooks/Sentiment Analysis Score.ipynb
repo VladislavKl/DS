{
 "cells": [
  {
   "cell_type": "markdown",
   "metadata": {},
   "source": [
    "## Sentiment Analysis Score\n",
    "\n",
    "Predict the sentiment analysis label, using a deep learning model for each query/emotion inside the relations file"
   ]
  },
  {
   "cell_type": "code",
   "execution_count": 1,
   "metadata": {
    "pycharm": {
     "is_executing": false
    }
   },
   "outputs": [],
   "source": [
    "# Add project path to the PYTHONPATH\n",
    "\n",
    "import os\n",
    "import sys\n",
    "from pathlib import Path\n",
    "\n",
    "sys.path.append(Path(os.path.join(os.path.abspath(''), '../')).resolve().as_posix())"
   ]
  },
  {
   "cell_type": "markdown",
   "metadata": {},
   "source": [
    "## Load Tokenizer\n",
    "\n",
    "Import and load the tokenizer from a `.pickle` file"
   ]
  },
  {
   "cell_type": "code",
   "execution_count": 2,
   "metadata": {
    "pycharm": {
     "is_executing": false
    }
   },
   "outputs": [],
   "source": [
    "import pickle\n",
    "from pathlib import Path"
   ]
  },
  {
   "cell_type": "code",
   "execution_count": 3,
   "metadata": {
    "pycharm": {
     "is_executing": false
    }
   },
   "outputs": [],
   "source": [
    "tokenizer_file = Path('../datasets/sentiment140/tokenizer.pickle').resolve()\n",
    "with tokenizer_file.open('rb') as file:\n",
    "    tokenizer = pickle.load(file)"
   ]
  },
  {
   "cell_type": "markdown",
   "metadata": {},
   "source": [
    "## Load Model\n",
    "\n",
    "Load the sentiment analysis model, using the saved weights"
   ]
  },
  {
   "cell_type": "code",
   "execution_count": 4,
   "metadata": {
    "pycharm": {
     "is_executing": false
    }
   },
   "outputs": [],
   "source": [
    "from tensorflow.keras.layers import Input, Embedding, GRU\n",
    "from tensorflow.keras.layers import Dropout, GlobalMaxPooling1D\n",
    "from tensorflow.keras.layers import Bidirectional, Dense\n",
    "from tensorflow.keras.models import Sequential"
   ]
  },
  {
   "cell_type": "code",
   "execution_count": 5,
   "metadata": {
    "pycharm": {
     "is_executing": false
    }
   },
   "outputs": [],
   "source": [
    "input_dim = min(tokenizer.num_words, len(tokenizer.word_index) + 1)\n",
    "embedding_dim = 200\n",
    "input_length = 100\n",
    "gru_units = 128\n",
    "gru_dropout = 0.1\n",
    "recurrent_dropout = 0.1\n",
    "dropout = 0.1"
   ]
  },
  {
   "cell_type": "code",
   "execution_count": 6,
   "metadata": {
    "pycharm": {
     "is_executing": false
    }
   },
   "outputs": [],
   "source": [
    "model = Sequential()\n",
    "model.add(Embedding(\n",
    "    input_dim=input_dim,\n",
    "    output_dim=embedding_dim,\n",
    "    input_shape=(input_length,)\n",
    "))\n",
    "\n",
    "model.add(Bidirectional(GRU(\n",
    "    gru_units,\n",
    "    return_sequences=True,\n",
    "    dropout=gru_dropout,\n",
    "    recurrent_dropout=recurrent_dropout\n",
    ")))\n",
    "model.add(GlobalMaxPooling1D())\n",
    "model.add(Dense(32, activation='relu'))\n",
    "model.add(Dropout(dropout))\n",
    "\n",
    "model.add(Dense(1, activation='sigmoid'))"
   ]
  },
  {
   "cell_type": "code",
   "execution_count": 7,
   "metadata": {
    "pycharm": {
     "is_executing": false
    }
   },
   "outputs": [],
   "source": [
    "weights_path = Path('../models/sentiment_analysis/model_weights.h5').resolve()\n",
    "model.load_weights(weights_path.as_posix())"
   ]
  },
  {
   "cell_type": "markdown",
   "metadata": {},
   "source": [
    "## Load Query Relations\n",
    "\n",
    "Load the relations between queries and emotions from a `.json` file"
   ]
  },
  {
   "cell_type": "code",
   "execution_count": 8,
   "metadata": {
    "pycharm": {
     "is_executing": false
    }
   },
   "outputs": [],
   "source": [
    "import json"
   ]
  },
  {
   "cell_type": "code",
   "execution_count": 9,
   "metadata": {
    "pycharm": {
     "is_executing": false
    }
   },
   "outputs": [],
   "source": [
    "relations_path = Path('../query_relations.json')\n",
    "with relations_path.open('r') as file:\n",
    "    relations = json.load(file)"
   ]
  },
  {
   "cell_type": "markdown",
   "metadata": {},
   "source": [
    "## Predict polarity\n",
    "\n",
    "Predict the polarity of the texts, using the sentiment analysis model"
   ]
  },
  {
   "cell_type": "code",
   "execution_count": 10,
   "metadata": {
    "pycharm": {
     "is_executing": false
    }
   },
   "outputs": [
    {
     "name": "stderr",
     "output_type": "stream",
     "text": [
      "[nltk_data] Downloading package stopwords to\n",
      "[nltk_data]     /Users/vladislavklyuev/nltk_data...\n",
      "[nltk_data]   Package stopwords is already up-to-date!\n"
     ]
    }
   ],
   "source": [
    "from tensorflow.keras.preprocessing.sequence import pad_sequences\n",
    "from nlp import preprocess\n",
    "from tqdm import tqdm\n",
    "import pandas as pd\n",
    "import numpy as np\n",
    "import re"
   ]
  },
  {
   "cell_type": "code",
   "execution_count": 11,
   "metadata": {
    "pycharm": {
     "is_executing": false
    }
   },
   "outputs": [],
   "source": [
    "dataset_dir = Path('../datasets/tweepy').resolve()"
   ]
  },
  {
   "cell_type": "code",
   "execution_count": 12,
   "metadata": {
    "pycharm": {
     "is_executing": false
    }
   },
   "outputs": [
    {
     "name": "stderr",
     "output_type": "stream",
     "text": [
      "100%|██████████| 29/29 [02:48<00:00,  5.81s/it]\n"
     ]
    }
   ],
   "source": [
    "data_dict = {}\n",
    "\n",
    "query_dict = {\n",
    "    'query': [],\n",
    "    'mean': [],\n",
    "    'max': [],\n",
    "    'min': [],\n",
    "    'std': [],\n",
    "    'count': [],\n",
    "    'emotion': []\n",
    "}\n",
    "\n",
    "dir_files = os.listdir(dataset_dir)\n",
    "\n",
    "with tqdm(total=len(dir_files)) as t:\n",
    "    for filename in dir_files:\n",
    "        dataset = pd.read_csv(os.path.join(dataset_dir, filename))\n",
    "        cleaned_texts = preprocess(dataset.text, quiet=True)\n",
    "\n",
    "        query = re.findall(r'(#[^.]+|:.+:)', filename)[0]\n",
    "\n",
    "        predict_sequences = [text.split() for text in cleaned_texts]\n",
    "        list_tokenized_predict = tokenizer.texts_to_sequences(predict_sequences)\n",
    "        x_predict = pad_sequences(list_tokenized_predict, maxlen=100)\n",
    "\n",
    "        result = model.predict(x_predict)\n",
    "        \n",
    "        emotion = relations[query]\n",
    "        query_dict['query'].append(query)\n",
    "        query_dict['mean'].append(np.mean(result))\n",
    "        query_dict['max'].append(np.amax(result))\n",
    "        query_dict['min'].append(np.amin(result))\n",
    "        query_dict['count'].append(len(dataset))\n",
    "        query_dict['std'].append(np.std(result))\n",
    "        query_dict['emotion'].append(emotion)\n",
    "\n",
    "        if emotion in data_dict:\n",
    "            data_dict[emotion] = np.concatenate([data_dict[emotion], result])\n",
    "        else:\n",
    "            data_dict[emotion] = result\n",
    "        \n",
    "        t.update()"
   ]
  },
  {
   "cell_type": "markdown",
   "metadata": {},
   "source": [
    "## Print Results\n",
    "\n",
    "Print the queries/emotions and the values"
   ]
  },
  {
   "cell_type": "code",
   "execution_count": 13,
   "metadata": {
    "pycharm": {
     "is_executing": false
    },
    "scrolled": false
   },
   "outputs": [
    {
     "data": {
      "text/html": [
       "<div>\n",
       "<style scoped>\n",
       "    .dataframe tbody tr th:only-of-type {\n",
       "        vertical-align: middle;\n",
       "    }\n",
       "\n",
       "    .dataframe tbody tr th {\n",
       "        vertical-align: top;\n",
       "    }\n",
       "\n",
       "    .dataframe thead th {\n",
       "        text-align: right;\n",
       "    }\n",
       "</style>\n",
       "<table border=\"1\" class=\"dataframe\">\n",
       "  <thead>\n",
       "    <tr style=\"text-align: right;\">\n",
       "      <th></th>\n",
       "      <th>query</th>\n",
       "      <th>mean</th>\n",
       "      <th>max</th>\n",
       "      <th>min</th>\n",
       "      <th>std</th>\n",
       "      <th>count</th>\n",
       "      <th>emotion</th>\n",
       "    </tr>\n",
       "  </thead>\n",
       "  <tbody>\n",
       "    <tr>\n",
       "      <th>0</th>\n",
       "      <td>:grinning_face_with_smiling_eyes:</td>\n",
       "      <td>0.690140</td>\n",
       "      <td>0.995362</td>\n",
       "      <td>0.016203</td>\n",
       "      <td>0.242131</td>\n",
       "      <td>4682</td>\n",
       "      <td>joy</td>\n",
       "    </tr>\n",
       "    <tr>\n",
       "      <th>6</th>\n",
       "      <td>#joy</td>\n",
       "      <td>0.822292</td>\n",
       "      <td>0.994438</td>\n",
       "      <td>0.047048</td>\n",
       "      <td>0.178356</td>\n",
       "      <td>2829</td>\n",
       "      <td>joy</td>\n",
       "    </tr>\n",
       "    <tr>\n",
       "      <th>13</th>\n",
       "      <td>#happiness</td>\n",
       "      <td>0.859708</td>\n",
       "      <td>0.994822</td>\n",
       "      <td>0.064436</td>\n",
       "      <td>0.155626</td>\n",
       "      <td>4578</td>\n",
       "      <td>joy</td>\n",
       "    </tr>\n",
       "    <tr>\n",
       "      <th>15</th>\n",
       "      <td>#excited</td>\n",
       "      <td>0.884466</td>\n",
       "      <td>0.994933</td>\n",
       "      <td>0.145889</td>\n",
       "      <td>0.137462</td>\n",
       "      <td>1613</td>\n",
       "      <td>joy</td>\n",
       "    </tr>\n",
       "    <tr>\n",
       "      <th>21</th>\n",
       "      <td>:red_heart:</td>\n",
       "      <td>0.781182</td>\n",
       "      <td>0.994983</td>\n",
       "      <td>0.020156</td>\n",
       "      <td>0.222091</td>\n",
       "      <td>4591</td>\n",
       "      <td>joy</td>\n",
       "    </tr>\n",
       "    <tr>\n",
       "      <th>27</th>\n",
       "      <td>:smiling_face_with_smiling_eyes:</td>\n",
       "      <td>0.785217</td>\n",
       "      <td>0.994891</td>\n",
       "      <td>0.026256</td>\n",
       "      <td>0.220473</td>\n",
       "      <td>4484</td>\n",
       "      <td>joy</td>\n",
       "    </tr>\n",
       "  </tbody>\n",
       "</table>\n",
       "</div>"
      ],
      "text/plain": [
       "                                query      mean       max       min       std  \\\n",
       "0   :grinning_face_with_smiling_eyes:  0.690140  0.995362  0.016203  0.242131   \n",
       "6                                #joy  0.822292  0.994438  0.047048  0.178356   \n",
       "13                         #happiness  0.859708  0.994822  0.064436  0.155626   \n",
       "15                           #excited  0.884466  0.994933  0.145889  0.137462   \n",
       "21                        :red_heart:  0.781182  0.994983  0.020156  0.222091   \n",
       "27   :smiling_face_with_smiling_eyes:  0.785217  0.994891  0.026256  0.220473   \n",
       "\n",
       "    count emotion  \n",
       "0    4682     joy  \n",
       "6    2829     joy  \n",
       "13   4578     joy  \n",
       "15   1613     joy  \n",
       "21   4591     joy  \n",
       "27   4484     joy  "
      ]
     },
     "metadata": {},
     "output_type": "display_data"
    },
    {
     "data": {
      "text/html": [
       "<div>\n",
       "<style scoped>\n",
       "    .dataframe tbody tr th:only-of-type {\n",
       "        vertical-align: middle;\n",
       "    }\n",
       "\n",
       "    .dataframe tbody tr th {\n",
       "        vertical-align: top;\n",
       "    }\n",
       "\n",
       "    .dataframe thead th {\n",
       "        text-align: right;\n",
       "    }\n",
       "</style>\n",
       "<table border=\"1\" class=\"dataframe\">\n",
       "  <thead>\n",
       "    <tr style=\"text-align: right;\">\n",
       "      <th></th>\n",
       "      <th>query</th>\n",
       "      <th>mean</th>\n",
       "      <th>max</th>\n",
       "      <th>min</th>\n",
       "      <th>std</th>\n",
       "      <th>count</th>\n",
       "      <th>emotion</th>\n",
       "    </tr>\n",
       "  </thead>\n",
       "  <tbody>\n",
       "    <tr>\n",
       "      <th>1</th>\n",
       "      <td>:face_with_steam_from_nose:</td>\n",
       "      <td>0.525856</td>\n",
       "      <td>0.991684</td>\n",
       "      <td>0.007834</td>\n",
       "      <td>0.266844</td>\n",
       "      <td>9000</td>\n",
       "      <td>anger</td>\n",
       "    </tr>\n",
       "    <tr>\n",
       "      <th>4</th>\n",
       "      <td>#mad</td>\n",
       "      <td>0.387373</td>\n",
       "      <td>0.966865</td>\n",
       "      <td>0.017412</td>\n",
       "      <td>0.219470</td>\n",
       "      <td>484</td>\n",
       "      <td>anger</td>\n",
       "    </tr>\n",
       "    <tr>\n",
       "      <th>7</th>\n",
       "      <td>#angry</td>\n",
       "      <td>0.330573</td>\n",
       "      <td>0.974755</td>\n",
       "      <td>0.015015</td>\n",
       "      <td>0.222967</td>\n",
       "      <td>450</td>\n",
       "      <td>anger</td>\n",
       "    </tr>\n",
       "    <tr>\n",
       "      <th>9</th>\n",
       "      <td>#furious</td>\n",
       "      <td>0.487592</td>\n",
       "      <td>0.949300</td>\n",
       "      <td>0.044740</td>\n",
       "      <td>0.257909</td>\n",
       "      <td>77</td>\n",
       "      <td>anger</td>\n",
       "    </tr>\n",
       "    <tr>\n",
       "      <th>10</th>\n",
       "      <td>#hateyou</td>\n",
       "      <td>0.372692</td>\n",
       "      <td>0.785669</td>\n",
       "      <td>0.123487</td>\n",
       "      <td>0.197314</td>\n",
       "      <td>11</td>\n",
       "      <td>anger</td>\n",
       "    </tr>\n",
       "    <tr>\n",
       "      <th>16</th>\n",
       "      <td>#pissed</td>\n",
       "      <td>0.240259</td>\n",
       "      <td>0.935397</td>\n",
       "      <td>0.018089</td>\n",
       "      <td>0.175839</td>\n",
       "      <td>296</td>\n",
       "      <td>anger</td>\n",
       "    </tr>\n",
       "    <tr>\n",
       "      <th>18</th>\n",
       "      <td>#pissedoff</td>\n",
       "      <td>0.342486</td>\n",
       "      <td>0.925229</td>\n",
       "      <td>0.016533</td>\n",
       "      <td>0.230020</td>\n",
       "      <td>117</td>\n",
       "      <td>anger</td>\n",
       "    </tr>\n",
       "    <tr>\n",
       "      <th>19</th>\n",
       "      <td>:face_with_symbols_on_mouth:</td>\n",
       "      <td>0.416722</td>\n",
       "      <td>0.989133</td>\n",
       "      <td>0.008382</td>\n",
       "      <td>0.251025</td>\n",
       "      <td>9000</td>\n",
       "      <td>anger</td>\n",
       "    </tr>\n",
       "    <tr>\n",
       "      <th>20</th>\n",
       "      <td>:pouting_face:</td>\n",
       "      <td>0.454024</td>\n",
       "      <td>0.992345</td>\n",
       "      <td>0.005212</td>\n",
       "      <td>0.256322</td>\n",
       "      <td>9000</td>\n",
       "      <td>anger</td>\n",
       "    </tr>\n",
       "    <tr>\n",
       "      <th>25</th>\n",
       "      <td>:anger_face:</td>\n",
       "      <td>0.444339</td>\n",
       "      <td>0.985892</td>\n",
       "      <td>0.026906</td>\n",
       "      <td>0.223909</td>\n",
       "      <td>1789</td>\n",
       "      <td>anger</td>\n",
       "    </tr>\n",
       "  </tbody>\n",
       "</table>\n",
       "</div>"
      ],
      "text/plain": [
       "                           query      mean       max       min       std  \\\n",
       "1    :face_with_steam_from_nose:  0.525856  0.991684  0.007834  0.266844   \n",
       "4                           #mad  0.387373  0.966865  0.017412  0.219470   \n",
       "7                         #angry  0.330573  0.974755  0.015015  0.222967   \n",
       "9                       #furious  0.487592  0.949300  0.044740  0.257909   \n",
       "10                      #hateyou  0.372692  0.785669  0.123487  0.197314   \n",
       "16                       #pissed  0.240259  0.935397  0.018089  0.175839   \n",
       "18                    #pissedoff  0.342486  0.925229  0.016533  0.230020   \n",
       "19  :face_with_symbols_on_mouth:  0.416722  0.989133  0.008382  0.251025   \n",
       "20                :pouting_face:  0.454024  0.992345  0.005212  0.256322   \n",
       "25                  :anger_face:  0.444339  0.985892  0.026906  0.223909   \n",
       "\n",
       "    count emotion  \n",
       "1    9000   anger  \n",
       "4     484   anger  \n",
       "7     450   anger  \n",
       "9      77   anger  \n",
       "10     11   anger  \n",
       "16    296   anger  \n",
       "18    117   anger  \n",
       "19   9000   anger  \n",
       "20   9000   anger  \n",
       "25   1789   anger  "
      ]
     },
     "metadata": {},
     "output_type": "display_data"
    },
    {
     "data": {
      "text/html": [
       "<div>\n",
       "<style scoped>\n",
       "    .dataframe tbody tr th:only-of-type {\n",
       "        vertical-align: middle;\n",
       "    }\n",
       "\n",
       "    .dataframe tbody tr th {\n",
       "        vertical-align: top;\n",
       "    }\n",
       "\n",
       "    .dataframe thead th {\n",
       "        text-align: right;\n",
       "    }\n",
       "</style>\n",
       "<table border=\"1\" class=\"dataframe\">\n",
       "  <thead>\n",
       "    <tr style=\"text-align: right;\">\n",
       "      <th></th>\n",
       "      <th>query</th>\n",
       "      <th>mean</th>\n",
       "      <th>max</th>\n",
       "      <th>min</th>\n",
       "      <th>std</th>\n",
       "      <th>count</th>\n",
       "      <th>emotion</th>\n",
       "    </tr>\n",
       "  </thead>\n",
       "  <tbody>\n",
       "    <tr>\n",
       "      <th>2</th>\n",
       "      <td>#depressed</td>\n",
       "      <td>0.137030</td>\n",
       "      <td>0.919184</td>\n",
       "      <td>0.005528</td>\n",
       "      <td>0.127630</td>\n",
       "      <td>644</td>\n",
       "      <td>sadness</td>\n",
       "    </tr>\n",
       "    <tr>\n",
       "      <th>8</th>\n",
       "      <td>#sad</td>\n",
       "      <td>0.104854</td>\n",
       "      <td>0.964132</td>\n",
       "      <td>0.001725</td>\n",
       "      <td>0.109697</td>\n",
       "      <td>8996</td>\n",
       "      <td>sadness</td>\n",
       "    </tr>\n",
       "    <tr>\n",
       "      <th>22</th>\n",
       "      <td>#depression</td>\n",
       "      <td>0.290758</td>\n",
       "      <td>0.984563</td>\n",
       "      <td>0.006620</td>\n",
       "      <td>0.198480</td>\n",
       "      <td>8920</td>\n",
       "      <td>sadness</td>\n",
       "    </tr>\n",
       "    <tr>\n",
       "      <th>28</th>\n",
       "      <td>:broken_heart:</td>\n",
       "      <td>0.401407</td>\n",
       "      <td>0.991080</td>\n",
       "      <td>0.005458</td>\n",
       "      <td>0.274192</td>\n",
       "      <td>5754</td>\n",
       "      <td>sadness</td>\n",
       "    </tr>\n",
       "  </tbody>\n",
       "</table>\n",
       "</div>"
      ],
      "text/plain": [
       "             query      mean       max       min       std  count  emotion\n",
       "2       #depressed  0.137030  0.919184  0.005528  0.127630    644  sadness\n",
       "8             #sad  0.104854  0.964132  0.001725  0.109697   8996  sadness\n",
       "22     #depression  0.290758  0.984563  0.006620  0.198480   8920  sadness\n",
       "28  :broken_heart:  0.401407  0.991080  0.005458  0.274192   5754  sadness"
      ]
     },
     "metadata": {},
     "output_type": "display_data"
    },
    {
     "data": {
      "text/html": [
       "<div>\n",
       "<style scoped>\n",
       "    .dataframe tbody tr th:only-of-type {\n",
       "        vertical-align: middle;\n",
       "    }\n",
       "\n",
       "    .dataframe tbody tr th {\n",
       "        vertical-align: top;\n",
       "    }\n",
       "\n",
       "    .dataframe thead th {\n",
       "        text-align: right;\n",
       "    }\n",
       "</style>\n",
       "<table border=\"1\" class=\"dataframe\">\n",
       "  <thead>\n",
       "    <tr style=\"text-align: right;\">\n",
       "      <th></th>\n",
       "      <th>query</th>\n",
       "      <th>mean</th>\n",
       "      <th>max</th>\n",
       "      <th>min</th>\n",
       "      <th>std</th>\n",
       "      <th>count</th>\n",
       "      <th>emotion</th>\n",
       "    </tr>\n",
       "  </thead>\n",
       "  <tbody>\n",
       "    <tr>\n",
       "      <th>3</th>\n",
       "      <td>#fear</td>\n",
       "      <td>0.573310</td>\n",
       "      <td>0.985692</td>\n",
       "      <td>0.007214</td>\n",
       "      <td>0.209829</td>\n",
       "      <td>2256</td>\n",
       "      <td>fear</td>\n",
       "    </tr>\n",
       "    <tr>\n",
       "      <th>5</th>\n",
       "      <td>#worried</td>\n",
       "      <td>0.325823</td>\n",
       "      <td>0.894836</td>\n",
       "      <td>0.013049</td>\n",
       "      <td>0.229899</td>\n",
       "      <td>157</td>\n",
       "      <td>fear</td>\n",
       "    </tr>\n",
       "    <tr>\n",
       "      <th>11</th>\n",
       "      <td>#scared</td>\n",
       "      <td>0.303335</td>\n",
       "      <td>0.925720</td>\n",
       "      <td>0.010762</td>\n",
       "      <td>0.213827</td>\n",
       "      <td>543</td>\n",
       "      <td>fear</td>\n",
       "    </tr>\n",
       "    <tr>\n",
       "      <th>12</th>\n",
       "      <td>#scary</td>\n",
       "      <td>0.491123</td>\n",
       "      <td>0.971156</td>\n",
       "      <td>0.015015</td>\n",
       "      <td>0.221699</td>\n",
       "      <td>1692</td>\n",
       "      <td>fear</td>\n",
       "    </tr>\n",
       "    <tr>\n",
       "      <th>14</th>\n",
       "      <td>:face_screaming_in_fear:</td>\n",
       "      <td>0.551556</td>\n",
       "      <td>0.995031</td>\n",
       "      <td>0.014395</td>\n",
       "      <td>0.251346</td>\n",
       "      <td>8902</td>\n",
       "      <td>fear</td>\n",
       "    </tr>\n",
       "    <tr>\n",
       "      <th>17</th>\n",
       "      <td>#anxious</td>\n",
       "      <td>0.493215</td>\n",
       "      <td>0.990066</td>\n",
       "      <td>0.017704</td>\n",
       "      <td>0.257176</td>\n",
       "      <td>292</td>\n",
       "      <td>fear</td>\n",
       "    </tr>\n",
       "    <tr>\n",
       "      <th>23</th>\n",
       "      <td>#afraid</td>\n",
       "      <td>0.412652</td>\n",
       "      <td>0.932353</td>\n",
       "      <td>0.050459</td>\n",
       "      <td>0.235034</td>\n",
       "      <td>172</td>\n",
       "      <td>fear</td>\n",
       "    </tr>\n",
       "    <tr>\n",
       "      <th>24</th>\n",
       "      <td>:anxious_face_with_sweat:</td>\n",
       "      <td>0.449569</td>\n",
       "      <td>0.991700</td>\n",
       "      <td>0.005922</td>\n",
       "      <td>0.262181</td>\n",
       "      <td>8797</td>\n",
       "      <td>fear</td>\n",
       "    </tr>\n",
       "    <tr>\n",
       "      <th>26</th>\n",
       "      <td>:fearful_face:</td>\n",
       "      <td>0.491166</td>\n",
       "      <td>0.994414</td>\n",
       "      <td>0.008334</td>\n",
       "      <td>0.251725</td>\n",
       "      <td>8204</td>\n",
       "      <td>fear</td>\n",
       "    </tr>\n",
       "  </tbody>\n",
       "</table>\n",
       "</div>"
      ],
      "text/plain": [
       "                        query      mean       max       min       std  count  \\\n",
       "3                       #fear  0.573310  0.985692  0.007214  0.209829   2256   \n",
       "5                    #worried  0.325823  0.894836  0.013049  0.229899    157   \n",
       "11                    #scared  0.303335  0.925720  0.010762  0.213827    543   \n",
       "12                     #scary  0.491123  0.971156  0.015015  0.221699   1692   \n",
       "14   :face_screaming_in_fear:  0.551556  0.995031  0.014395  0.251346   8902   \n",
       "17                   #anxious  0.493215  0.990066  0.017704  0.257176    292   \n",
       "23                    #afraid  0.412652  0.932353  0.050459  0.235034    172   \n",
       "24  :anxious_face_with_sweat:  0.449569  0.991700  0.005922  0.262181   8797   \n",
       "26             :fearful_face:  0.491166  0.994414  0.008334  0.251725   8204   \n",
       "\n",
       "   emotion  \n",
       "3     fear  \n",
       "5     fear  \n",
       "11    fear  \n",
       "12    fear  \n",
       "14    fear  \n",
       "17    fear  \n",
       "23    fear  \n",
       "24    fear  \n",
       "26    fear  "
      ]
     },
     "metadata": {},
     "output_type": "display_data"
    }
   ],
   "source": [
    "df = pd.DataFrame(data=query_dict)\n",
    "for emotion in df.emotion.unique():\n",
    "    display(df[df.emotion == emotion])"
   ]
  },
  {
   "cell_type": "code",
   "execution_count": 14,
   "metadata": {
    "pycharm": {
     "is_executing": false
    }
   },
   "outputs": [
    {
     "data": {
      "text/html": [
       "<div>\n",
       "<style scoped>\n",
       "    .dataframe tbody tr th:only-of-type {\n",
       "        vertical-align: middle;\n",
       "    }\n",
       "\n",
       "    .dataframe tbody tr th {\n",
       "        vertical-align: top;\n",
       "    }\n",
       "\n",
       "    .dataframe thead th {\n",
       "        text-align: right;\n",
       "    }\n",
       "</style>\n",
       "<table border=\"1\" class=\"dataframe\">\n",
       "  <thead>\n",
       "    <tr style=\"text-align: right;\">\n",
       "      <th></th>\n",
       "      <th>emotion</th>\n",
       "      <th>mean</th>\n",
       "      <th>max</th>\n",
       "      <th>min</th>\n",
       "      <th>std</th>\n",
       "      <th>count</th>\n",
       "    </tr>\n",
       "  </thead>\n",
       "  <tbody>\n",
       "    <tr>\n",
       "      <th>0</th>\n",
       "      <td>joy</td>\n",
       "      <td>0.791465</td>\n",
       "      <td>0.995362</td>\n",
       "      <td>0.016203</td>\n",
       "      <td>0.213368</td>\n",
       "      <td>22777</td>\n",
       "    </tr>\n",
       "    <tr>\n",
       "      <th>1</th>\n",
       "      <td>anger</td>\n",
       "      <td>0.458358</td>\n",
       "      <td>0.992345</td>\n",
       "      <td>0.005212</td>\n",
       "      <td>0.259689</td>\n",
       "      <td>30224</td>\n",
       "    </tr>\n",
       "    <tr>\n",
       "      <th>2</th>\n",
       "      <td>sadness</td>\n",
       "      <td>0.244089</td>\n",
       "      <td>0.991080</td>\n",
       "      <td>0.001725</td>\n",
       "      <td>0.226408</td>\n",
       "      <td>24314</td>\n",
       "    </tr>\n",
       "    <tr>\n",
       "      <th>3</th>\n",
       "      <td>fear</td>\n",
       "      <td>0.498132</td>\n",
       "      <td>0.995031</td>\n",
       "      <td>0.005922</td>\n",
       "      <td>0.255033</td>\n",
       "      <td>31015</td>\n",
       "    </tr>\n",
       "  </tbody>\n",
       "</table>\n",
       "</div>"
      ],
      "text/plain": [
       "   emotion      mean       max       min       std  count\n",
       "0      joy  0.791465  0.995362  0.016203  0.213368  22777\n",
       "1    anger  0.458358  0.992345  0.005212  0.259689  30224\n",
       "2  sadness  0.244089  0.991080  0.001725  0.226408  24314\n",
       "3     fear  0.498132  0.995031  0.005922  0.255033  31015"
      ]
     },
     "metadata": {},
     "output_type": "display_data"
    }
   ],
   "source": [
    "emotion_dict = {\n",
    "    'emotion': [],\n",
    "    'mean': [],\n",
    "    'max': [],\n",
    "    'min': [],\n",
    "    'std': [],\n",
    "    'count': []\n",
    "}\n",
    "\n",
    "for emotion, result in data_dict.items():\n",
    "    emotion_dict['emotion'].append(emotion)\n",
    "    emotion_dict['mean'].append(np.mean(result))\n",
    "    emotion_dict['max'].append(np.amax(result))\n",
    "    emotion_dict['min'].append(np.amin(result))\n",
    "    emotion_dict['std'].append(np.std(result))\n",
    "    emotion_dict['count'].append(len(result))\n",
    "    \n",
    "emotion_df = pd.DataFrame(data=emotion_dict)\n",
    "display(emotion_df)"
   ]
  },
  {
   "cell_type": "code",
   "execution_count": 14,
   "metadata": {
    "pycharm": {
     "is_executing": false
    }
   },
   "outputs": [],
   "source": []
  }
 ],
 "metadata": {
  "kernelspec": {
   "display_name": "Python 3",
   "language": "python",
   "name": "python3"
  },
  "language_info": {
   "codemirror_mode": {
    "name": "ipython",
    "version": 3
   },
   "file_extension": ".py",
   "mimetype": "text/x-python",
   "name": "python",
   "nbconvert_exporter": "python",
   "pygments_lexer": "ipython3",
   "version": "3.8.5"
  },
  "pycharm": {
   "stem_cell": {
    "cell_type": "raw",
    "metadata": {
     "collapsed": false
    },
    "source": []
   }
  }
 },
 "nbformat": 4,
 "nbformat_minor": 2
}
